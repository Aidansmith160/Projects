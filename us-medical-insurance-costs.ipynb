{
 "cells": [
  {
   "cell_type": "markdown",
   "metadata": {},
   "source": [
    "# U.S. Medical Insurance Costs"
   ]
  },
  {
   "cell_type": "markdown",
   "metadata": {},
   "source": [
    "The datafile is a large dataset with categories of age,\tsex, bmi, children,\tsmoker,\tregion and charges.\n",
    "\n",
    "With charges being the main numerical value of the dataset it would be interesting to see how the other variables affect it. However at this stage in the course we are limited to looking mainly at single columns and within variables.\n",
    "\n",
    "So for the purpose of this exercise we will be looking at calculating the mean and median values for the respective numerical categories. \n",
    "Numerical variables here are age, bmi, children and charges\n",
    "\n",
    "For categorical variables we have a number of binary variables; sex, and smoker as well as the region category that has multiple possible outcomes\n",
    "\n",
    "For the purpose of the excersise I am also refraining from using Panda's\n",
    "This is to help me practice the fundamentals of python (e.g lists, loops, functions) explored in the course so far"
   ]
  },
  {
   "cell_type": "markdown",
   "metadata": {},
   "source": [
    "First we will import the csv module and open the csv file, we'll then create some empty lists and write our variables to those lists\n"
   ]
  },
  {
   "cell_type": "code",
   "execution_count": 70,
   "metadata": {},
   "outputs": [],
   "source": [
    "import csv\n",
    "\n",
    "insurance_file = open(\"C:\\\\Users\\\\Aidan\\\\Documents\\\\Jupyter\\\\python-portfolio-project-starter-files\\\\insurance.csv\", \"r\")\n",
    "\n",
    "\n",
    "# creating dictreader object from the csv library\n",
    "insurance_dict = csv.DictReader(insurance_file)\n",
    "\n",
    "#creating empty variables\n",
    "age_var = []\n",
    "sex_var = []\n",
    "bmi_var = []\n",
    "children_var = []\n",
    "smoker_var = []\n",
    "region_var = []\n",
    "charges_var = []\n",
    "\n",
    "#writing each column to each respective variable\n",
    "\n",
    "for col in insurance_dict:\n",
    "    age_var.append(col['age'])\n",
    "    sex_var.append(col['sex'])\n",
    "    bmi_var.append(col['bmi'])\n",
    "    children_var.append(col['children'])\n",
    "    smoker_var.append(col['smoker'])\n",
    "    region_var.append(col['region'])\n",
    "    charges_var.append(col['charges'])\n",
    "\n"
   ]
  },
  {
   "cell_type": "markdown",
   "metadata": {},
   "source": [
    "There is probably an easier way to calculate a median but here I just wanted to practice my maths as well as my ability to create and use functions"
   ]
  },
  {
   "cell_type": "code",
   "execution_count": 71,
   "metadata": {},
   "outputs": [],
   "source": [
    "def calculate_median(variable):\n",
    "    median = 0\n",
    "    if len(variable) % 2 == 0:\n",
    "        median = variable[int((((len(variable) + 1)/2) + (len(variable) / 2)) / 2)]\n",
    "    if len(variable) % 2 != 0:\n",
    "        median = variable[int(((len(variable) + 1)/2))]\n",
    "    return median"
   ]
  },
  {
   "cell_type": "markdown",
   "metadata": {},
   "source": [
    "I noticed that the numerical variables had been written as strings.\n",
    "\n",
    "So here I convert the strings to integers using a list comprehension."
   ]
  },
  {
   "cell_type": "code",
   "execution_count": 72,
   "metadata": {},
   "outputs": [],
   "source": [
    "age_var = [eval(i) for i in age_var]\n",
    "bmi_var = [eval(i) for i in bmi_var]\n",
    "children_var = [eval(i) for i in children_var]\n",
    "charges_var = [eval(i) for i in charges_var]"
   ]
  },
  {
   "cell_type": "markdown",
   "metadata": {},
   "source": [
    "# Numerical Variables"
   ]
  },
  {
   "cell_type": "code",
   "execution_count": 75,
   "metadata": {},
   "outputs": [
    {
     "name": "stdout",
     "output_type": "stream",
     "text": [
      "The length of the age variable is 1338\n",
      "The sum of all the ages is 52459\n",
      "The mean of all the ages is 39.20702541106129\n",
      "The median of all the ages is 39\n"
     ]
    }
   ],
   "source": [
    "total_age = 0\n",
    "\n",
    "print('The length of the age variable is ' + str(len(age_var)))\n",
    "\n",
    "for age in age_var:\n",
    "    total_age += age\n",
    "\n",
    "print(\"The sum of all the ages is \" + str(total_age))\n",
    "\n",
    "mean_age = total_age / len(age_var)\n",
    "\n",
    "print(\"The mean of all the ages is \" + str(mean_age))\n",
    "\n",
    "sorted_age_var = sorted(age_var)\n",
    "\n",
    "median_age = calculate_median(sorted_age_var)\n",
    "print(\"The median of all the ages is \" + str(median_age))"
   ]
  },
  {
   "cell_type": "code",
   "execution_count": 76,
   "metadata": {},
   "outputs": [
    {
     "name": "stdout",
     "output_type": "stream",
     "text": [
      "The length of the bmis variable is 1338\n",
      "The sum of all the bmis is 41027.624999999985\n",
      "The mean of all the bmis is 30.663396860986538\n",
      "The median of all the bmis is 30.4\n"
     ]
    }
   ],
   "source": [
    "total_bmi = 0\n",
    "\n",
    "print('The length of the bmis variable is ' + str(len(bmi_var)))\n",
    "\n",
    "for bmi in bmi_var:\n",
    "    total_bmi += bmi\n",
    "\n",
    "print(\"The sum of all the bmis is \" + str(total_bmi))\n",
    "\n",
    "mean_bmi = total_bmi / len(bmi_var)\n",
    "\n",
    "print(\"The mean of all the bmis is \" + str(mean_bmi))\n",
    "\n",
    "sorted_bmi_var = sorted(bmi_var)\n",
    "\n",
    "median_bmi = calculate_median(sorted_bmi_var)\n",
    "print(\"The median of all the bmis is \" + str(median_bmi))"
   ]
  },
  {
   "cell_type": "code",
   "execution_count": 77,
   "metadata": {},
   "outputs": [
    {
     "name": "stdout",
     "output_type": "stream",
     "text": [
      "The length of the children variable is 1338\n",
      "The sum of all the children is 1465\n",
      "The mean of all the children is 1.0949177877429\n",
      "The median of all the children is 1\n"
     ]
    }
   ],
   "source": [
    "total_children = 0\n",
    "\n",
    "print('The length of the children variable is ' + str(len(children_var)))\n",
    "\n",
    "for child in children_var:\n",
    "    total_children += child\n",
    "\n",
    "print(\"The sum of all the children is \" + str(total_children))\n",
    "\n",
    "mean_children = total_children / len(children_var)\n",
    "\n",
    "print(\"The mean of all the children is \" + str(mean_children))\n",
    "\n",
    "sorted_children_var = sorted(children_var)\n",
    "\n",
    "median_children = calculate_median(sorted_children_var)\n",
    "print(\"The median of all the children is \" + str(median_children))"
   ]
  },
  {
   "cell_type": "code",
   "execution_count": 107,
   "metadata": {},
   "outputs": [
    {
     "name": "stdout",
     "output_type": "stream",
     "text": [
      "The length of the charges variable is 1338\n",
      "The sum of all the charges is 17755824.990759\n",
      "The mean of all the charges is 13270.422265141257\n",
      "The median of all the charges is 9386.1613\n",
      "The difference between the mean and the median in this case is 3884.2609651412567\n"
     ]
    }
   ],
   "source": [
    "total_charges = 0\n",
    "\n",
    "print('The length of the charges variable is ' + str(len(charges_var)))\n",
    "\n",
    "for charge in charges_var:\n",
    "    total_charges += charge\n",
    "\n",
    "print(\"The sum of all the charges is \" + str(total_charges))\n",
    "\n",
    "mean_charges = total_charges / len(charges_var)\n",
    "\n",
    "print(\"The mean of all the charges is \" + str(mean_charges))\n",
    "\n",
    "sorted_charges_var = sorted(charges_var)\n",
    "\n",
    "median_charges = calculate_median(sorted_charges_var)\n",
    "print(\"The median of all the charges is \" + str(median_charges))\n",
    "\n",
    "print(\"The difference between the mean and the median in this case is \" + str(mean_charges-median_charges))"
   ]
  },
  {
   "cell_type": "markdown",
   "metadata": {},
   "source": [
    "These exploratory analyses of the numerical data have been fairly basic (given the nature of the restrictions placed as part of the project). \n",
    "\n",
    "The median and mean values are relatively close to each other.\n",
    "\n",
    "The exception to this is the charges variable where there is a difference of around 3800. \n",
    "\n",
    "Coming back to this project when I have improved my knowledge of both statistics and python may allow for more significant and insightful analyses."
   ]
  },
  {
   "cell_type": "markdown",
   "metadata": {},
   "source": [
    "# Categorical Variables"
   ]
  },
  {
   "cell_type": "code",
   "execution_count": 87,
   "metadata": {},
   "outputs": [
    {
     "name": "stdout",
     "output_type": "stream",
     "text": [
      "The total number of males in the dataset is 676\n",
      "The total number of females in the dataset is 662\n",
      "49.48% of the dataset is female\n"
     ]
    }
   ],
   "source": [
    "total_male = 0 \n",
    "total_female = 0\n",
    "\n",
    "for sex in sex_var:\n",
    "    if sex == 'male':\n",
    "        total_male += 1\n",
    "    if sex == 'female':\n",
    "        total_female += 1\n",
    "\n",
    "        \n",
    "        \n",
    "print('The total number of males in the dataset is ' + str(total_male))\n",
    "print('The total number of females in the dataset is ' + str(total_female))\n",
    "\n",
    "ratio_sex = round((total_female / len(sex_var) * 100), 2)\n",
    "print(str(ratio_sex) + '% of the dataset is female')"
   ]
  },
  {
   "cell_type": "code",
   "execution_count": 90,
   "metadata": {},
   "outputs": [
    {
     "name": "stdout",
     "output_type": "stream",
     "text": [
      "The total number of smokers in the dataset is 274\n",
      "The total number of nonsmokers in the dataset is 1064\n",
      "79.52% of the dataset is nonsmoker\n"
     ]
    }
   ],
   "source": [
    "total_smoker = 0 \n",
    "total_nonsmoker = 0\n",
    "\n",
    "for smoker in smoker_var:\n",
    "    if smoker == 'yes':\n",
    "        total_smoker += 1\n",
    "    if smoker == 'no':\n",
    "        total_nonsmoker += 1\n",
    "\n",
    "        \n",
    "print('The total number of smokers in the dataset is ' + str(total_smoker))\n",
    "print('The total number of nonsmokers in the dataset is ' + str(total_nonsmoker))\n",
    "\n",
    "ratio_sex = round((total_nonsmoker / len(smoker_var) * 100), 2)\n",
    "print(str(ratio_sex) + '% of the dataset is nonsmoker')"
   ]
  },
  {
   "cell_type": "code",
   "execution_count": 104,
   "metadata": {},
   "outputs": [
    {
     "name": "stdout",
     "output_type": "stream",
     "text": [
      "The unique regions in the dataset are {'northeast', 'northwest', 'southwest', 'southeast'}\n",
      "The total number of datapoints in the northeast region are 324\n",
      "The total number of datapoints in the northwest region are 325\n",
      "The total number of datapoints in the southwest region are 325\n",
      "The total number of datapoints in the southeast region are 364\n"
     ]
    }
   ],
   "source": [
    "regions = set(region_var)\n",
    "\n",
    "print('The unique regions in the dataset are ' + str(regions))\n",
    "\n",
    "total_northeast = 0 \n",
    "total_northwest = 0\n",
    "total_southwest = 0 \n",
    "total_southeast = 0\n",
    "\n",
    "for region in region_var:\n",
    "    if region == 'northeast':\n",
    "        total_northeast += 1\n",
    "    if region == 'northwest':\n",
    "        total_northwest += 1\n",
    "    if region == 'southwest':\n",
    "        total_southwest += 1\n",
    "    if region == 'southeast':\n",
    "        total_southeast += 1\n",
    "\n",
    "print('The total number of datapoints in the northeast region are ' + str(total_northeast))\n",
    "print('The total number of datapoints in the northwest region are ' + str(total_northwest))\n",
    "print('The total number of datapoints in the southwest region are ' + str(total_southwest))\n",
    "print('The total number of datapoints in the southeast region are ' + str(total_southeast))"
   ]
  },
  {
   "cell_type": "code",
   "execution_count": null,
   "metadata": {},
   "outputs": [],
   "source": []
  }
 ],
 "metadata": {
  "kernelspec": {
   "display_name": "Python 3 (ipykernel)",
   "language": "python",
   "name": "python3"
  },
  "language_info": {
   "codemirror_mode": {
    "name": "ipython",
    "version": 3
   },
   "file_extension": ".py",
   "mimetype": "text/x-python",
   "name": "python",
   "nbconvert_exporter": "python",
   "pygments_lexer": "ipython3",
   "version": "3.9.12"
  }
 },
 "nbformat": 4,
 "nbformat_minor": 4
}
