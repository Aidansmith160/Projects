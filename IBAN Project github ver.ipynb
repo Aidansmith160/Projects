{
 "cells": [
  {
   "cell_type": "markdown",
   "id": "12f416ac",
   "metadata": {},
   "source": [
    "# Writing a function that finds an IBAN in a string of unrelated text\n",
    "\n",
    "As a start project to supplement my learning in python I wanted to build a dashboard to be able to monitor my spending as well as practice my coding. \n",
    "\n",
    "The extract from my bank however is not very well formatted. \n",
    "\n",
    "Most of the information about a given payment is available in a string included at the end of each line. \n",
    "\n",
    "For example below is an example of a payment sent to my savings account \n",
    "\n",
    "Instant credit transfer in euro: ING app                                        To: MR AIDAN SMITH - BE16377470638074                                           Instantly on 25/01 - 14:23:36                                                                                                                                       \n",
    "So in order to begin figuring out where my money has gone I would like to isolate and identify the IBANs in my dataset \n",
    "\n",
    "Below are my attempts to do this"
   ]
  },
  {
   "cell_type": "markdown",
   "id": "427ba00a",
   "metadata": {},
   "source": [
    "# Getting the IBAN information"
   ]
  },
  {
   "cell_type": "markdown",
   "id": "0e09d906",
   "metadata": {},
   "source": [
    "Firstly I wanted to get a list or dictionary of each IBAN and the number of characters that each countries' IBAN's contain. \n",
    "\n",
    "The general format of an IBAN is with the first 2 letters signifying the country and the rest of the characters will be specific to that country\n",
    "\n",
    "For example BE17548812179621 is an IBAN from Belgium, whereas NL88ABNA5082783165 is an IBAN from the Netherlands. The Belgian IBAN has 16 characters wheareas the Dutch IBAN has 18 (all IBAN's used in this are from an IBAN randomiser so have no attachment to myself)\n",
    "\n",
    "The tables containing this information can be found here https://www.iban.com/structure as well as on wikipedia here: https://en.wikipedia.org/wiki/International_Bank_Account_Number#IBAN_formats_by_country\n",
    "\n",
    "After trying for a long time to scrape the wikipedia table using using BeautifulSoup I found this really easy solution by Prakhar Jhudele in this stackoverflow question https://stackoverflow.com/questions/63844703/scraping-a-table-from-multiple-table-wikipedia\n",
    "\n",
    "This method just uses the pandas library to make a list of tables from the URL\n",
    "\n",
    "So after accessing the table I save it as it's own dataframe and then take the first 2 characters from the IBAN Fields column as my Country Code to use for the IBAN identification"
   ]
  },
  {
   "cell_type": "code",
   "execution_count": 40,
   "id": "82c9e460",
   "metadata": {},
   "outputs": [],
   "source": [
    "import pandas as pd\n",
    "wikiurl = 'https://en.wikipedia.org/wiki/International_Bank_Account_Number#IBAN_formats_by_country'\n",
    "tables = pd.read_html(wikiurl)"
   ]
  },
  {
   "cell_type": "code",
   "execution_count": 105,
   "id": "a21b1ccb",
   "metadata": {},
   "outputs": [
    {
     "name": "stdout",
     "output_type": "stream",
     "text": [
      "      Country  Chars BBAN Format                         IBAN Fields  \\\n",
      "0     Albania     28      8n,16c  ALkk bbbs sssx cccc cccc cccc cccc   \n",
      "1     Andorra     24      8n,12c       ADkk bbbb ssss cccc cccc cccc   \n",
      "2     Austria     20         16n            ATkk bbbb bccc cccc cccc   \n",
      "3  Azerbaijan     28      4c,20n  AZkk bbbb cccc cccc cccc cccc cccc   \n",
      "4     Bahrain     22      4a,14c         BHkk bbbb cccc cccc cccc cc   \n",
      "\n",
      "                                             Comment Country_Code  \n",
      "0  b = National bank code s = Branch code x = Nat...           AL  \n",
      "1  b = National bank code s = Branch code c = Acc...           AD  \n",
      "2          b = National bank code c = Account number           AT  \n",
      "3          b = National bank code c = Account number           AZ  \n",
      "4           b = National bank codec = Account number           BH  \n"
     ]
    }
   ],
   "source": [
    "IBAN_df = tables[3]\n",
    "IBAN_df[\"Country_Code\"] = IBAN_df['IBAN Fields'].str[:2]\n",
    "print(IBAN_df.head())"
   ]
  },
  {
   "cell_type": "code",
   "execution_count": 106,
   "id": "6bf3ba99",
   "metadata": {},
   "outputs": [
    {
     "name": "stdout",
     "output_type": "stream",
     "text": [
      "{'AL': 28, 'AD': 24, 'AT': 20, 'AZ': 28, 'BH': 22, 'BY': 28, 'BE': 16, 'BA': 20, 'BR': 29, 'BG': 22, 'CR': 22, 'HR': 21, 'CY': 28, 'CZ': 24, 'DK': 18, 'DO': 28, 'TL': 23, 'EG': 29, 'SV': 28, 'EE': 20, 'FO': 18, 'FI': 18, 'FR': 27, 'GE': 22, 'DE': 22, 'GI': 23, 'GR': 27, 'GL': 18, 'GT': 28, 'HU': 28, 'IS': 26, 'IQ': 23, 'IE': 22, 'IL': 23, 'IT': 27, 'JO': 30, 'KZ': 20, 'XK': 20, 'KW': 30, 'LV': 21, 'LB': 28, 'LY': 25, 'LI': 21, 'LT': 20, 'LU': 20, 'MK': 19, 'MT': 31, 'MR': 27, 'MU': 30, 'MC': 27, 'MD': 24, 'ME': 22, 'NL': 18, 'NO': 15, 'PK': 24, 'PS': 29, 'PL': 28, 'PT': 25, 'QA': 29, 'RO': 24, 'RU': 29, 'LC': 32, 'SM': 27, 'ST': 25, 'SA': 24, 'RS': 22, 'SC': 31, 'SK': 24, 'SI': 19, 'ES': 24, 'SD': 18, 'SE': 24, 'CH': 21, 'TN': 24, 'TR': 26, 'UA': 29, 'AE': 23, 'GB': 22, 'VA': 22, 'VG': 24}\n"
     ]
    }
   ],
   "source": [
    "iban_dict = dict(zip(IBAN_df[\"Country_Code\"], IBAN_df[\"Chars\"]))\n",
    "print(iban_dict)"
   ]
  },
  {
   "cell_type": "markdown",
   "id": "00554b44",
   "metadata": {},
   "source": [
    "# Finding the IBANs"
   ]
  },
  {
   "cell_type": "markdown",
   "id": "9ad39126",
   "metadata": {},
   "source": [
    "Below is my slowly working towards creating a function that would print the IBANs from a test csv file\n",
    "\n",
    "I started using my dictionary to find the length of an IBAN and then the IBAN itself in a list. \n",
    "\n",
    "Next I tried to use this in a string of all CAPS unrelated text which is where I ran into some identification issues.\n",
    "\n",
    "I explain what my function does further on."
   ]
  },
  {
   "cell_type": "code",
   "execution_count": 107,
   "id": "8f9fad36",
   "metadata": {},
   "outputs": [
    {
     "name": "stdout",
     "output_type": "stream",
     "text": [
      "DK8850515933314767\n",
      "18\n",
      "DE92500105174818779671\n",
      "22\n",
      "NL88ABNA5082783165\n",
      "18\n",
      "PT75003506511855878295791\n",
      "25\n"
     ]
    }
   ],
   "source": [
    "random_iban = [\" BE17548812179621\", \"NL88ABNA5082783165\", \"DK8850515933314767\", \"PT75003506511855878295791\", \"DE92500105174818779671\"]\n",
    "\n",
    "for key in iban_dict.keys():\n",
    "    for iban in random_iban:\n",
    "        if iban[:2] == key:\n",
    "            print(iban[:(iban_dict[key]+1)])\n",
    "            print(iban_dict[key])\n",
    "        "
   ]
  },
  {
   "cell_type": "code",
   "execution_count": 108,
   "id": "e2ab9cc5",
   "metadata": {},
   "outputs": [
    {
     "name": "stdout",
     "output_type": "stream",
     "text": [
      "BE ALL FOR NOTHI\n"
     ]
    }
   ],
   "source": [
    "random_string = \"THERE IS AN ACCOUNT NL88ABNA5082783165 IN THIS STRING BUT IT MAY BE ALL FOR NOTHING\"\n",
    "\n",
    "letter = 'BE'\n",
    "position = random_string.rfind(letter)\n",
    "\n",
    "print(random_string[position: (position + 16)])"
   ]
  },
  {
   "cell_type": "code",
   "execution_count": 109,
   "id": "b2eba08c",
   "metadata": {},
   "outputs": [
    {
     "name": "stdout",
     "output_type": "stream",
     "text": [
      "NL88ABNA5082783165 \n"
     ]
    }
   ],
   "source": [
    "for key in iban_dict.keys():\n",
    "    if key in random_string:\n",
    "        position = random_string.rfind(key)\n",
    "        \n",
    "            end_iban = position +((iban_dict[key]+1))\n",
    "            print(random_string[ position: end_iban])"
   ]
  },
  {
   "cell_type": "code",
   "execution_count": 282,
   "id": "98618066",
   "metadata": {},
   "outputs": [
    {
     "name": "stdout",
     "output_type": "stream",
     "text": [
      "                                             Message\n",
      "0                              There is nothing here\n",
      "1  Instant credit transfer in euro: ING app      ...\n",
      "2  Instant credit transfer in euro: ING app      ...\n",
      "3  Instant credit transfer in euro: ING app      ...\n",
      "4  Instant credit transfer in euro: ING app      ...\n",
      "5  Instant credit transfer in euro: ING app      ...\n",
      "6  Instant credit transfer in euro: ING app      ...\n",
      "7  Instant credit transfer in euro: ING app      ...\n",
      "8  Instant credit transfer in euro: ING app      ...\n",
      "9  Instant credit transfer in euro: ING app      ...\n"
     ]
    }
   ],
   "source": [
    "test_csv = \"C:\\\\Users\\\\Aidan\\\\Documents\\\\Jupyter\\\\Iban Project\\\\Test.csv\"\n",
    "test_df = pd.read_csv(test_csv)\n",
    "print(test_df)"
   ]
  },
  {
   "cell_type": "code",
   "execution_count": 117,
   "id": "2c59eaab",
   "metadata": {},
   "outputs": [
    {
     "name": "stdout",
     "output_type": "stream",
     "text": [
      "NL30INGB8181091612 \n",
      "GB8181091612           \n",
      "GR5101472149469821271692996 \n",
      "BE90663896996532 \n",
      "FI3695483936181936 \n",
      "BE83988912945115 \n",
      "BE25750687693382 \n",
      "BE68631564355334 \n",
      "DK2050518284255618 \n",
      "DE27500105171756794451 \n"
     ]
    }
   ],
   "source": [
    "for i,row in test_df.iterrows():\n",
    "    for key in iban_dict.keys():\n",
    "        if key in row[\"Entry Details\"]:\n",
    "            position = row[\"Entry Details\"].rfind(key)\n",
    "            if row[\"Entry Details\"][(position + 3)].isnumeric() == True: \n",
    "                end_iban = position +((iban_dict[key]+1))\n",
    "                print(row[\"Entry Details\"][ position: end_iban])"
   ]
  },
  {
   "cell_type": "code",
   "execution_count": 130,
   "id": "24bce2dc",
   "metadata": {},
   "outputs": [
    {
     "name": "stdout",
     "output_type": "stream",
     "text": [
      "NL30INGB8181091612 \n",
      "GB8181091612           \n",
      "GR5101472149469821271692996 \n",
      "BE90663896996532 \n",
      "FI3695483936181936 \n",
      "BE83988912945115 \n",
      "BE25750687693382 \n",
      "BE68631564355334 \n",
      "DK2050518284255618 \n",
      "DE27500105171756794451 \n"
     ]
    }
   ],
   "source": [
    "test_df[\"IBAN\"] = \"\"\n",
    "\n",
    "for i,row in test_df.iterrows():\n",
    "    for key in iban_dict.keys():\n",
    "        if key in row[\"Entry Details\"]:\n",
    "            position = row[\"Entry Details\"].rfind(key)\n",
    "            if row[\"Entry Details\"][(position + 3)].isnumeric() == True: \n",
    "                end_iban = position +((iban_dict[key]+1))\n",
    "                IBAN = row[\"Entry Details\"][ position: end_iban]\n",
    "                print(IBAN)\n",
    "                row[\"IBAN\"] = IBAN"
   ]
  },
  {
   "cell_type": "code",
   "execution_count": 131,
   "id": "9f4efa18",
   "metadata": {},
   "outputs": [
    {
     "name": "stdout",
     "output_type": "stream",
     "text": [
      "                                       Entry Details  \\\n",
      "0  Instant credit transfer in euro: ING app      ...   \n",
      "1  Instant credit transfer in euro: ING app      ...   \n",
      "2  Instant credit transfer in euro: ING app      ...   \n",
      "3  Instant credit transfer in euro: ING app      ...   \n",
      "4  Instant credit transfer in euro: ING app      ...   \n",
      "5  Instant credit transfer in euro: ING app      ...   \n",
      "6  Instant credit transfer in euro: ING app      ...   \n",
      "7  Instant credit transfer in euro: ING app      ...   \n",
      "8  Instant credit transfer in euro: ING app      ...   \n",
      "\n",
      "                           IBAN  \n",
      "0       GB8181091612             \n",
      "1  GR5101472149469821271692996   \n",
      "2             BE90663896996532   \n",
      "3           FI3695483936181936   \n",
      "4             BE83988912945115   \n",
      "5             BE25750687693382   \n",
      "6             BE68631564355334   \n",
      "7           DK2050518284255618   \n",
      "8       DE27500105171756794451   \n"
     ]
    }
   ],
   "source": [
    "print(test_df)"
   ]
  },
  {
   "cell_type": "code",
   "execution_count": 120,
   "id": "ac29b096",
   "metadata": {},
   "outputs": [],
   "source": [
    "def find_iban(dataframe, column, dictionary, new_column):\n",
    "    for i,row in dataframe.iterrows():\n",
    "        for key in dictionary.keys():\n",
    "            if key in row[column]:\n",
    "                position = row[column].rfind(key)\n",
    "                if row[column][(position + 3)].isnumeric() == True: \n",
    "                    end_iban = position +((iban_dict[key]+1))\n",
    "                    return row[column][position: end_iban]\n"
   ]
  },
  {
   "cell_type": "markdown",
   "id": "380e3303",
   "metadata": {},
   "source": [
    "# The 'Final' Function\n",
    "\n",
    "So step by step what this function does is:\n",
    "\n",
    "First it takes the input of the dataframe you want to look at, the specific column of strings to look at and the dictionary that contains the country codes and character limits for each IBAN from wikipedia.\n",
    "\n",
    "It iterates over each row in the dataframe and over each row it then iterates over the dictionary. If the key (the country code) from the dictionary is found in the column of the row it saves the position as a variable.\n",
    "\n",
    "I was originally getting a lot of non IBANS popping up as the format in the CSV from my bank includes a lot of lines that were ALL CAPS (so case sensitivity couldn't be an identifier). I noticed however that after the country code of an IBAN it is uniformly a numerical value. \n",
    "\n",
    "So the next check is if the third character after the position of the country code is numeric. If so it then finds the end of the IBAN using the start position and the number of characters from the dictionary (+ 1 as string slicing is non inclusive of the last number). \n",
    "\n",
    "The function then returns the string from the beginning position of the IBAN to the end position\n",
    "\n",
    "I added in a counter for the number of keys found that helps me identify errors. Missing IBAN errors cannot be avoided as they are simply not included in the payment messages (in my dashboard I will have to find another way to look at these datapoints). \n",
    "Multiple IBAN found errors are going to take some further thought to iron out"
   ]
  },
  {
   "cell_type": "code",
   "execution_count": 337,
   "id": "42e85ac7",
   "metadata": {},
   "outputs": [],
   "source": [
    "def create_iban_column(dataframe, column, dictionary, new_column):\n",
    "    dataframe[new_column] = \"\"\n",
    "    for i,row in dataframe.iterrows():\n",
    "        keyfound = 0 \n",
    "        for key in dictionary.keys():\n",
    "            if key in str(row[column]):\n",
    "                position = row[column].rfind(key)\n",
    "                if row[column][(position + 2)].isnumeric() == True:\n",
    "                    keyfound +=1\n",
    "                    if keyfound == 1:\n",
    "                        end_iban = position +((iban_dict[key]+1))\n",
    "                        IBAN = row[column][ position: end_iban]\n",
    "                        #print(IBAN)\n",
    "                        row[new_column] = IBAN\n",
    "                        #print(row[new_column])\n",
    "            if keyfound > 1:\n",
    "                row[new_column] = \"Error in message: more than one IBAN recognised\"\n",
    "            if keyfound == 0:\n",
    "                    row[new_column] = \"Error in message: no IBAN found\"\n",
    "        #print(keyfound)\n",
    "            "
   ]
  },
  {
   "cell_type": "code",
   "execution_count": 341,
   "id": "e0c33ffe",
   "metadata": {},
   "outputs": [
    {
     "name": "stdout",
     "output_type": "stream",
     "text": [
      "                                             Message\n",
      "0                              There is nothing here\n",
      "1  Instant credit transfer in euro: ING app      ...\n",
      "2  Instant credit transfer in euro: ING app      ...\n",
      "3  Instant credit transfer in euro: ING app      ...\n",
      "4  Instant credit transfer in euro: ING app      ...\n",
      "5  Instant credit transfer in euro: ING app      ...\n",
      "6  Instant credit transfer in euro: ING app      ...\n",
      "7  Instant credit transfer in euro: ING app      ...\n",
      "8  Instant credit transfer in euro: ING app      ...\n",
      "9  Instant credit transfer in euro: ING app      ...\n"
     ]
    }
   ],
   "source": [
    "test_csv = \"C:\\\\Users\\\\Aidan\\\\Documents\\\\Jupyter\\\\Iban Project\\\\Test.csv\"\n",
    "test_df = pd.read_csv(test_csv)\n",
    "print(test_df)"
   ]
  },
  {
   "cell_type": "code",
   "execution_count": 342,
   "id": "e45088f3",
   "metadata": {},
   "outputs": [],
   "source": [
    "create_iban_column(test_df,\"Message\", iban_dict, \"IBAN\")\n",
    "test_df.to_csv(r\"C:\\\\Users\\\\Aidan\\\\Documents\\\\Jupyter\\\\Iban Project\\\\testdatawithIBAN.csv\")\n"
   ]
  },
  {
   "cell_type": "code",
   "execution_count": 343,
   "id": "46210dd2",
   "metadata": {},
   "outputs": [
    {
     "data": {
      "text/html": [
       "<div>\n",
       "<style scoped>\n",
       "    .dataframe tbody tr th:only-of-type {\n",
       "        vertical-align: middle;\n",
       "    }\n",
       "\n",
       "    .dataframe tbody tr th {\n",
       "        vertical-align: top;\n",
       "    }\n",
       "\n",
       "    .dataframe thead th {\n",
       "        text-align: right;\n",
       "    }\n",
       "</style>\n",
       "<table border=\"1\" class=\"dataframe\">\n",
       "  <thead>\n",
       "    <tr style=\"text-align: right;\">\n",
       "      <th></th>\n",
       "      <th>Message</th>\n",
       "      <th>IBAN</th>\n",
       "    </tr>\n",
       "  </thead>\n",
       "  <tbody>\n",
       "    <tr>\n",
       "      <th>0</th>\n",
       "      <td>There is nothing here</td>\n",
       "      <td>Error in message: no IBAN found</td>\n",
       "    </tr>\n",
       "    <tr>\n",
       "      <th>1</th>\n",
       "      <td>Instant credit transfer in euro: ING app      ...</td>\n",
       "      <td>Error in message: more than one IBAN recognised</td>\n",
       "    </tr>\n",
       "    <tr>\n",
       "      <th>2</th>\n",
       "      <td>Instant credit transfer in euro: ING app      ...</td>\n",
       "      <td>GR5101472149469821271692996</td>\n",
       "    </tr>\n",
       "    <tr>\n",
       "      <th>3</th>\n",
       "      <td>Instant credit transfer in euro: ING app      ...</td>\n",
       "      <td>BE90663896996532</td>\n",
       "    </tr>\n",
       "    <tr>\n",
       "      <th>4</th>\n",
       "      <td>Instant credit transfer in euro: ING app      ...</td>\n",
       "      <td>FI3695483936181936</td>\n",
       "    </tr>\n",
       "  </tbody>\n",
       "</table>\n",
       "</div>"
      ],
      "text/plain": [
       "                                             Message  \\\n",
       "0                              There is nothing here   \n",
       "1  Instant credit transfer in euro: ING app      ...   \n",
       "2  Instant credit transfer in euro: ING app      ...   \n",
       "3  Instant credit transfer in euro: ING app      ...   \n",
       "4  Instant credit transfer in euro: ING app      ...   \n",
       "\n",
       "                                              IBAN  \n",
       "0                  Error in message: no IBAN found  \n",
       "1  Error in message: more than one IBAN recognised  \n",
       "2                     GR5101472149469821271692996   \n",
       "3                                BE90663896996532   \n",
       "4                              FI3695483936181936   "
      ]
     },
     "execution_count": 343,
     "metadata": {},
     "output_type": "execute_result"
    }
   ],
   "source": [
    "test_df.head()"
   ]
  }
 ],
 "metadata": {
  "kernelspec": {
   "display_name": "Python 3 (ipykernel)",
   "language": "python",
   "name": "python3"
  },
  "language_info": {
   "codemirror_mode": {
    "name": "ipython",
    "version": 3
   },
   "file_extension": ".py",
   "mimetype": "text/x-python",
   "name": "python",
   "nbconvert_exporter": "python",
   "pygments_lexer": "ipython3",
   "version": "3.9.12"
  }
 },
 "nbformat": 4,
 "nbformat_minor": 5
}
